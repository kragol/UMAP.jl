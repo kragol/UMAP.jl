{
 "cells": [
  {
   "cell_type": "code",
   "execution_count": null,
   "metadata": {},
   "outputs": [],
   "source": [
    "using UMAP\n",
    "using MLDatasets\n",
    "using Plots\n",
    "using PyCall\n",
    "@pyimport umap\n",
    "pyplot();"
   ]
  },
  {
   "cell_type": "code",
   "execution_count": null,
   "metadata": {},
   "outputs": [],
   "source": [
    "mnist_x = MNIST.convert2features(MNIST.traintensor(Float64))\n",
    "mnist_y = MNIST.trainlabels(1:size(mnist_x, 2))\n",
    "UMAP_(mnist_x[:, 1:100], 5); # precompile"
   ]
  },
  {
   "cell_type": "code",
   "execution_count": null,
   "metadata": {},
   "outputs": [],
   "source": [
    "@time umap_jl = UMAP_(mnist_x, 10; init=:spectral, min_dist=0.001)\n",
    "res_jl = umap_jl.embedding\n",
    "x2 = res_jl[1,:]\n",
    "y2 = res_jl[2,:]\n",
    "scatter(x2, y2, zcolor=mnist_y, title=\"MNIST: Julia UMAP\")"
   ]
  },
  {
   "cell_type": "code",
   "execution_count": null,
   "metadata": {},
   "outputs": [],
   "source": [
    "@time res_py = umap.UMAP(n_neighbors=10, \n",
    "    min_dist=0.001,\n",
    "    init=\"spectral\")[:fit_transform](permutedims(mnist_x))\n",
    "x = res_py[:,1]\n",
    "y = res_py[:,2]\n",
    "scatter(x, y, zcolor=mnist_y, title=\"MNIST: Python UMAP\")"
   ]
  },
  {
   "cell_type": "code",
   "execution_count": null,
   "metadata": {},
   "outputs": [],
   "source": [
    "fmnist_x = FashionMNIST.convert2features(FashionMNIST.traintensor(Float64))\n",
    "fmnist_y = FashionMNIST.trainlabels(1:size(fmnist_x, 2));"
   ]
  },
  {
   "cell_type": "code",
   "execution_count": null,
   "metadata": {},
   "outputs": [],
   "source": [
    "@time umap_jl = UMAP_(fmnist_x, 5; min_dist=0.1)\n",
    "res_jl = umap_jl.embedding\n",
    "x2 = res_jl[1,:]\n",
    "y2 = res_jl[2,:]\n",
    "scatter(x2, y2, zcolor=fmnist_y, title=\"FMNIST: Julia UMAP\")"
   ]
  },
  {
   "cell_type": "code",
   "execution_count": null,
   "metadata": {},
   "outputs": [],
   "source": [
    "@time res_py = umap.UMAP(n_neighbors=5, \n",
    "    min_dist=0.1)[:fit_transform](permutedims(fmnist_x))\n",
    "x = res_py[:,1]\n",
    "y = res_py[:,2]\n",
    "scatter(x, y, zcolor=fmnist_y, title=\"FMNIST: Python UMAP\")"
   ]
  }
 ],
 "metadata": {
  "kernelspec": {
   "display_name": "Julia 1.0.2",
   "language": "julia",
   "name": "julia-1.0"
  },
  "language_info": {
   "file_extension": ".jl",
   "mimetype": "application/julia",
   "name": "julia",
   "version": "1.0.2"
  }
 },
 "nbformat": 4,
 "nbformat_minor": 2
}
