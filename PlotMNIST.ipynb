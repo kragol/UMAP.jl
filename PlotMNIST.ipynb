{
 "cells": [
  {
   "cell_type": "code",
   "execution_count": null,
   "metadata": {},
   "outputs": [],
   "source": [
    "using UMAP\n",
    "using MLDatasets\n",
    "using Plots\n",
    "using BenchmarkTools\n",
    "using PyCall\n",
    "@pyimport umap\n",
    "pyplot()"
   ]
  },
  {
   "cell_type": "code",
   "execution_count": null,
   "metadata": {},
   "outputs": [],
   "source": [
    "data = MNIST.convert2features(MNIST.traintensor(Float64))\n",
    "train_x = [data[:,i] for i in 1:size(data, 2)]\n",
    "train_y = MNIST.trainlabels(1:size(data, 2));"
   ]
  },
  {
   "cell_type": "code",
   "execution_count": null,
   "metadata": {},
   "outputs": [],
   "source": [
    "UMAP_(train_x[1:100], 5); # precompile\n",
    "@time umap_jl_struct = UMAP_(train_x, 10; init=:spectral, min_dist=0.001)\n",
    "res_jl = umap_jl_struct.embedding;"
   ]
  },
  {
   "cell_type": "code",
   "execution_count": null,
   "metadata": {},
   "outputs": [],
   "source": [
    "x2 = res_jl[1,:]\n",
    "y2 = res_jl[2,:]\n",
    "scatter(x2, y2, zcolor=train_y, title=\"MNIST: Julia UMAP\")"
   ]
  },
  {
   "cell_type": "code",
   "execution_count": null,
   "metadata": {},
   "outputs": [],
   "source": [
    "@time res_py = umap.UMAP(n_neighbors=10, min_dist=0.001, init=\"spectral\")[:fit_transform](permutedims(data));"
   ]
  },
  {
   "cell_type": "code",
   "execution_count": null,
   "metadata": {},
   "outputs": [],
   "source": [
    "x = res_py[:,1]\n",
    "y = res_py[:,2]\n",
    "scatter(x, y, zcolor=train_y, title=\"MNIST: Python UMAP\")"
   ]
  },
  {
   "cell_type": "code",
   "execution_count": null,
   "metadata": {},
   "outputs": [],
   "source": []
  }
 ],
 "metadata": {
  "kernelspec": {
   "display_name": "Julia 1.0.2",
   "language": "julia",
   "name": "julia-1.0"
  },
  "language_info": {
   "file_extension": ".jl",
   "mimetype": "application/julia",
   "name": "julia",
   "version": "1.0.2"
  }
 },
 "nbformat": 4,
 "nbformat_minor": 2
}
