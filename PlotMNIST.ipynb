{
 "cells": [
  {
   "cell_type": "code",
   "execution_count": null,
   "metadata": {},
   "outputs": [],
   "source": [
    "using UMAP: umap\n",
    "using MLDatasets\n",
    "using Plots\n",
    "using PyCall\n",
    "@pyimport umap as py_umap;"
   ]
  },
  {
   "cell_type": "code",
   "execution_count": null,
   "metadata": {},
   "outputs": [],
   "source": [
    "mnist_x = MNIST.convert2features(MNIST.traintensor(Float64))\n",
    "mnist_y = MNIST.trainlabels(1:size(mnist_x, 2));"
   ]
  },
  {
   "cell_type": "code",
   "execution_count": null,
   "metadata": {},
   "outputs": [],
   "source": [
    "@time res_jl = umap(mnist_x; n_neighbors=10, min_dist=0.001, n_epochs=200)\n",
    "\n",
    "scatter(res_jl[1,:], res_jl[2,:], zcolor=mnist_y, \n",
    "        title=\"MNIST: Julia UMAP\", marker=(2, 2, :auto, stroke(0)))"
   ]
  },
  {
   "cell_type": "code",
   "execution_count": null,
   "metadata": {},
   "outputs": [],
   "source": [
    "@time res_py = py_umap.UMAP(n_neighbors=10, min_dist=0.001, n_epochs=200)[:fit_transform](permutedims(mnist_x))\n",
    "scatter(res_py[:,1], res_py[:,2], zcolor=mnist_y, \n",
    "        title=\"MNIST: Python UMAP\", marker=(2, 2, :auto, stroke(0)))"
   ]
  },
  {
   "cell_type": "code",
   "execution_count": null,
   "metadata": {},
   "outputs": [],
   "source": [
    "fmnist_x = FashionMNIST.convert2features(FashionMNIST.traintensor(Float64))\n",
    "fmnist_y = FashionMNIST.trainlabels(1:size(fmnist_x, 2));"
   ]
  },
  {
   "cell_type": "code",
   "execution_count": null,
   "metadata": {},
   "outputs": [],
   "source": [
    "@time res_jl = umap(fmnist_x; n_neighbors=5, min_dist=0.1, n_epochs=200)\n",
    "x2 = res_jl[1,:]\n",
    "y2 = res_jl[2,:]\n",
    "scatter(res_jl[1,:], res_jl[2,:], zcolor=fmnist_y, \n",
    "        title=\"FMNIST: Julia UMAP\", marker=(2, 2, :auto, stroke(0)))"
   ]
  },
  {
   "cell_type": "code",
   "execution_count": null,
   "metadata": {},
   "outputs": [],
   "source": [
    "@time res_py = py_umap.UMAP(n_neighbors=5, min_dist=0.1, n_epochs=200)[:fit_transform](permutedims(fmnist_x))\n",
    "scatter(res_py[:,1], res_py[:,2], zcolor=fmnist_y, \n",
    "        title=\"FMNIST: Python UMAP\", marker=(2, 2, :auto, stroke(0)))"
   ]
  }
 ],
 "metadata": {
  "kernelspec": {
   "display_name": "Julia 1.0.2",
   "language": "julia",
   "name": "julia-1.0"
  },
  "language_info": {
   "file_extension": ".jl",
   "mimetype": "application/julia",
   "name": "julia",
   "version": "1.0.2"
  }
 },
 "nbformat": 4,
 "nbformat_minor": 2
}
